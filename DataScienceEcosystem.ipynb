{
 "cells": [
  {
   "cell_type": "markdown",
   "id": "4c820085-cb48-46d2-8611-7ec3076f49bb",
   "metadata": {},
   "source": [
    "# Data Science Tools And Ecosystem"
   ]
  },
  {
   "cell_type": "markdown",
   "id": "4cc4e1d7-a57f-4496-9547-0607db50f3b8",
   "metadata": {},
   "source": [
    "In this notebook, Data Science Tools and Ecosystem are summarized."
   ]
  },
  {
   "cell_type": "markdown",
   "id": "8bc5c733-63d4-4329-907b-7a3b1652ddb1",
   "metadata": {},
   "source": [
    "Some of the popular languages that Data Scientists use are:\n",
    "1. Python\n",
    "2. R\n",
    "3. Scala\n",
    "4. Julia\n",
    "5. SQL"
   ]
  },
  {
   "cell_type": "markdown",
   "id": "53638a5e-1434-4bc9-afa5-c0cfb608f6d4",
   "metadata": {},
   "source": [
    "Some of the commonly used libraries used by Data Scientists include:\n",
    "1. Numpy\n",
    "2. Pandas\n",
    "3. Matplotlib\n",
    "4. seaborn"
   ]
  },
  {
   "cell_type": "markdown",
   "id": "5ca6c9ca-e93c-4c71-849e-1a8a1a002dbc",
   "metadata": {},
   "source": [
    "Data Science Tools\n",
    "|Tools| Description\n",
    "|-----| ------------------------------------\n",
    "|Python| Programming Language\n",
    "|R| Programming Language\n",
    "|Pandas| Inbuilt Python Packages"
   ]
  },
  {
   "cell_type": "markdown",
   "id": "d2f241cf-bd74-4e85-8afb-6f038fbe0f7f",
   "metadata": {},
   "source": [
    "### Below are a few examples of evaluating arithmetic expressions in Python\n"
   ]
  },
  {
   "cell_type": "code",
   "execution_count": 2,
   "id": "35bc7893-b885-4879-a9b1-78ce1c519adf",
   "metadata": {},
   "outputs": [
    {
     "data": {
      "text/plain": [
       "17"
      ]
     },
     "execution_count": 2,
     "metadata": {},
     "output_type": "execute_result"
    }
   ],
   "source": [
    "x = (3*4)+5\n",
    "x"
   ]
  },
  {
   "cell_type": "code",
   "execution_count": 3,
   "id": "6d54d363-20c5-48e6-a2cf-99dc42d4b5a5",
   "metadata": {},
   "outputs": [
    {
     "data": {
      "text/plain": [
       "60"
      ]
     },
     "execution_count": 3,
     "metadata": {},
     "output_type": "execute_result"
    }
   ],
   "source": [
    "#this will Convert Minute into Hours\n",
    "min = 200\n",
    "hours = 60\n",
    "Destination = min/hours\n",
    "hours"
   ]
  },
  {
   "cell_type": "markdown",
   "id": "0574b168-6d50-4eea-b21c-329e0e607895",
   "metadata": {},
   "source": [
    "**Objectives**\n",
    "+ Popular Languages\n",
    " - python\n",
    " - R\n",
    " - Scala\n",
    "+ Libraries\n",
    "  + Numpy\n",
    "  + pandas\n",
    "  + Matplotlib\n",
    "+ Arithmetic expression"
   ]
  },
  {
   "cell_type": "markdown",
   "id": "62ae0e35-93f9-4266-8117-342275717155",
   "metadata": {},
   "source": [
    "**Author**\n",
    "Fredrick Joseph"
   ]
  },
  {
   "cell_type": "code",
   "execution_count": null,
   "id": "f38e56cd-e781-4fd4-b08c-dd4224f87da4",
   "metadata": {},
   "outputs": [],
   "source": []
  }
 ],
 "metadata": {
  "kernelspec": {
   "display_name": "Python 3 (ipykernel)",
   "language": "python",
   "name": "python3"
  },
  "language_info": {
   "codemirror_mode": {
    "name": "ipython",
    "version": 3
   },
   "file_extension": ".py",
   "mimetype": "text/x-python",
   "name": "python",
   "nbconvert_exporter": "python",
   "pygments_lexer": "ipython3",
   "version": "3.8.2"
  }
 },
 "nbformat": 4,
 "nbformat_minor": 5
}
